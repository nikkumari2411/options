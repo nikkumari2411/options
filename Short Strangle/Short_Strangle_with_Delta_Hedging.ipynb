{
  "nbformat": 4,
  "nbformat_minor": 0,
  "metadata": {
    "colab": {
      "provenance": []
    },
    "kernelspec": {
      "name": "python3",
      "display_name": "Python 3"
    },
    "language_info": {
      "name": "python"
    }
  },
  "cells": [
    {
      "cell_type": "markdown",
      "metadata": {
        "id": "ukc_blAAE2c_"
      },
      "source": [
        "### Short strangle with delta hedging"
      ]
    },
    {
      "cell_type": "markdown",
      "metadata": {
        "id": "SeiKmlfWE2c_"
      },
      "source": [
        "https://zerodha.com/varsity/chapter/the-long-short-strangle/"
      ]
    },
    {
      "cell_type": "markdown",
      "metadata": {
        "id": "Q-K2tx_4E2c_"
      },
      "source": [
        "Coming to the reality we can't predict market accurately and it may lead to loss.<br/>\n",
        "So in practice market neutral strategies are very helpful and can give decent returns with very less risk<br/>\n",
        "One such strategy is to sell put and call options such that the overall delta of our positions remains 0."
      ]
    },
    {
      "cell_type": "markdown",
      "metadata": {
        "id": "W9O-19OCE2dA"
      },
      "source": [
        "Try to code the above strategy and manage delta just like given in the previous strategy.<br/>\n",
        "You will only use 35000 puts and calls for this strategy.<br/>\n",
        "Initially sell 10 lots of puts and correspondingly sell x lots of calls such that the delta becomes 0.<br/>\n",
        "Then manage the delta accordingly by just selling or buying call options and not changing the number of put options sold.<br/>\n",
        "Also plot the profit graph on whole data and see the results!<br/>\n",
        "\n",
        "Hint: Do remember that unlike futures which has delta of 1 delta of 35000 puts options would change everytime."
      ]
    },
    {
      "cell_type": "markdown",
      "metadata": {
        "id": "0lWRZW5NE2cq"
      },
      "source": [
        "## Importing important libraries"
      ]
    },
    {
      "cell_type": "code",
      "execution_count": null,
      "metadata": {
        "id": "7Lb_SRTGE2cs"
      },
      "outputs": [],
      "source": [
        "#pip install py_vollib"
      ]
    },
    {
      "cell_type": "code",
      "execution_count": null,
      "metadata": {
        "id": "tSeXWcnpE2cu"
      },
      "outputs": [],
      "source": [
        "import pandas as pd\n",
        "import matplotlib.pyplot as plt\n",
        "import numpy as np\n",
        "\n",
        "from datetime import datetime\n",
        "\n",
        "import warnings\n",
        "warnings.filterwarnings(\"ignore\")\n",
        "\n",
        "# to fetch data \n",
        "import yfinance as yf\n",
        "\n",
        "import scipy.stats as ss\n",
        "\n",
        "import py_vollib.black_scholes.greeks.analytical as derivatives\n",
        "\n",
        "import math"
      ]
    },
    {
      "cell_type": "markdown",
      "metadata": {
        "id": "HQp3r8T7FqfW"
      },
      "source": [
        "### Initialising everything required to calculate delta"
      ]
    },
    {
      "cell_type": "code",
      "execution_count": null,
      "metadata": {
        "id": "sKL-8QSIE2dA"
      },
      "outputs": [],
      "source": [
        "df_call_35000 = pd.read_csv('D:\\chrome\\OPTIDX_BANKNIFTY_CE_28-May-2021_TO_24-Jun-2021 (1).csv')\n",
        "df_call_35000.head()"
      ]
    },
    {
      "cell_type": "code",
      "execution_count": null,
      "metadata": {
        "id": "uEVaLCxLE2dA"
      },
      "outputs": [],
      "source": [
        "df_put_35000 = pd.read_csv('D:\\chrome\\OPTIDX_BANKNIFTY_PE_28-May-2021_TO_24-Jun-2021.csv')\n",
        "df_put_35000.head()"
      ]
    },
    {
      "cell_type": "markdown",
      "metadata": {
        "id": "KnyzjqQYE2dB"
      },
      "source": [
        "### Initialising everything required to calculate delta"
      ]
    },
    {
      "cell_type": "code",
      "execution_count": null,
      "metadata": {
        "id": "gIqSbSG_E2dB"
      },
      "outputs": [],
      "source": [
        "#Assume we are starting the strategy at the opening time of 28th May\n",
        "S = _______  #price of the underlying\n",
        "K = 35000   #strike price\n",
        "t = ______  #time left to expiry in years\n",
        "sigma = vol #volatility\n",
        "r = 0.06 #risk free rate\n",
        "delta_to_maintain = _____"
      ]
    },
    {
      "cell_type": "markdown",
      "metadata": {
        "id": "_cBwEe9WE2dB"
      },
      "source": [
        "### Initial selling"
      ]
    },
    {
      "cell_type": "code",
      "execution_count": null,
      "metadata": {
        "id": "-B-47F_3E2dB"
      },
      "outputs": [],
      "source": [
        "no_of_lots_put = 10      #number of lots of put sold\n",
        "sell_avg_put = _______   #selling average of seeling those lots\n",
        "lot_size = 25\n",
        "delta = ______  #total delta after selling 250 quantities of put"
      ]
    },
    {
      "cell_type": "code",
      "execution_count": null,
      "metadata": {
        "id": "FmUawU-OE2dC"
      },
      "outputs": [],
      "source": [
        "delta"
      ]
    },
    {
      "cell_type": "code",
      "execution_count": null,
      "metadata": {
        "id": "9lSbqtmmE2dC"
      },
      "outputs": [],
      "source": [
        "delta_per_lot_call = _______  #delta per lot of call,i.e, delta of 25 quantities\n",
        "delta_per_lot_call"
      ]
    },
    {
      "cell_type": "code",
      "execution_count": null,
      "metadata": {
        "id": "SSuVuWEME2dC"
      },
      "outputs": [],
      "source": [
        "number_of_lots_call =  _________   #number of lots of call to be sold\n",
        "number_of_lots_call"
      ]
    },
    {
      "cell_type": "code",
      "execution_count": null,
      "metadata": {
        "id": "DuDuo2pYE2dC"
      },
      "outputs": [],
      "source": [
        "sell_avg_call = ________   #selling average of that call options sold\n",
        "sell_avg_call"
      ]
    },
    {
      "cell_type": "code",
      "execution_count": null,
      "metadata": {
        "id": "Gb11fBeEE2dD"
      },
      "outputs": [],
      "source": [
        "#Before delta management ans few questions:\n",
        "\n",
        "#Q1. If market moves up, what would happen to delta of put options? (increase/decrease)\n",
        "#Ans : ______\n",
        "\n",
        "#Q2. If market moves up, what would happen to delta of call options? (increase/decrease)\n",
        "#Ans : __________\n",
        "\n",
        "#Q3. What would be your ideal strategy in terms of buying/selling call options if market moves up to maintain a delta of 0.\n",
        "#Ans : __________\n",
        "\n",
        "'''\n",
        "Bonus Question: Assume that you have set a limit to selling of your quantities and you have reached that limit of yours.\n",
        "Now the market went up. You have to manage your delta such that the final quantity sold by you remains the same.\n",
        "What would you do?\n",
        "Hint : Think about changing the strikes of options\n",
        "\n",
        "Ans : ______\n",
        "'''"
      ]
    },
    {
      "cell_type": "markdown",
      "metadata": {
        "id": "Z57tZ-lJE2dD"
      },
      "source": [
        "### Delta Management"
      ]
    },
    {
      "cell_type": "code",
      "execution_count": null,
      "metadata": {
        "id": "GoXJgOfTE2dD"
      },
      "outputs": [],
      "source": [
        "number_of_lots_call =  _______   #number of call lots to be sold(same as above)\n",
        "sell_avg_call = ______   #selling average(same as above)\n",
        "profit = []\n",
        "\n",
        "#Write the code for delta management"
      ]
    },
    {
      "cell_type": "code",
      "execution_count": null,
      "metadata": {
        "id": "UPgdVOdhE2dD"
      },
      "outputs": [],
      "source": [
        "profit.append(_____)  #profit at the expiry as at expiry delta is not done and therefore cannot be calculated in the above loop"
      ]
    },
    {
      "cell_type": "code",
      "execution_count": null,
      "metadata": {
        "id": "zT3x4LaVE2dE"
      },
      "outputs": [],
      "source": [
        "profit"
      ]
    },
    {
      "cell_type": "code",
      "execution_count": null,
      "metadata": {
        "id": "fpFHCMC0E2dE"
      },
      "outputs": [],
      "source": [
        "#Plot the profit graph"
      ]
    },
    {
      "cell_type": "markdown",
      "metadata": {
        "id": "uDQna3kzE2dE"
      },
      "source": [
        "See the results you get by selling calls and puts and just managing delta at end of day"
      ]
    }
  ]
}