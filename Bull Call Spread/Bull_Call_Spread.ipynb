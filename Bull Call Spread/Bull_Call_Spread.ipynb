{
  "cells": [
    {
      "cell_type": "markdown",
      "metadata": {
        "id": "7xDoWE7dE2cf"
      },
      "source": [
        "# Bull Call Spread on Bank Nifty Data"
      ]
    },
    {
      "cell_type": "markdown",
      "metadata": {
        "id": "8OVX7m3oE2cm"
      },
      "source": [
        "https://zerodha.com/varsity/chapter/bull-call-spread/"
      ]
    },
    {
      "cell_type": "markdown",
      "metadata": {
        "id": "KksWFXRsE2co"
      },
      "source": [
        "In this assignment I have given the code for bull call spread on bank nifty data for 1 month managing the delta of 0.8 <br/>\n",
        "Also rather than buying at the money call option, we have bought bank nifty futures at the start of the month and we will hedge it by selling OTM call option."
      ]
    },
    {
      "cell_type": "markdown",
      "metadata": {
        "id": "0lWRZW5NE2cq"
      },
      "source": [
        "## Importing important libraries"
      ]
    },
    {
      "cell_type": "code",
      "execution_count": null,
      "metadata": {
        "id": "7Lb_SRTGE2cs"
      },
      "outputs": [],
      "source": [
        "#pip install py_vollib"
      ]
    },
    {
      "cell_type": "code",
      "execution_count": null,
      "metadata": {
        "id": "tSeXWcnpE2cu"
      },
      "outputs": [],
      "source": [
        "import pandas as pd\n",
        "import matplotlib.pyplot as plt\n",
        "import numpy as np\n",
        "\n",
        "from datetime import datetime\n",
        "\n",
        "import warnings\n",
        "warnings.filterwarnings(\"ignore\")\n",
        "\n",
        "# to fetch data \n",
        "import yfinance as yf\n",
        "\n",
        "import scipy.stats as ss\n",
        "\n",
        "import py_vollib.black_scholes.greeks.analytical as derivatives\n",
        "\n",
        "import math"
      ]
    },
    {
      "cell_type": "markdown",
      "metadata": {
        "id": "oU7NYmRME2cw"
      },
      "source": [
        "## Importing data"
      ]
    },
    {
      "cell_type": "code",
      "execution_count": null,
      "metadata": {
        "id": "AoKgnZsdE2cx"
      },
      "outputs": [],
      "source": [
        "df_fut = pd.read_csv('D:\\chrome\\FUTIDX_BANKNIFTY_28-May-2021_TO_24-Jun-2021.csv')  #Fill in with the address of where you downloaded the file. You can check in properties of the file\n",
        "df_fut.head()"
      ]
    },
    {
      "cell_type": "code",
      "execution_count": null,
      "metadata": {
        "id": "dWfJrfbtE2cy"
      },
      "outputs": [],
      "source": [
        "df_call_36000 = pd.read_csv('D:\\chrome\\OPTIDX_BANKNIFTY_CE_28-May-2021_TO_24-Jun-2021.csv')\n",
        "df_call_36000.head()"
      ]
    },
    {
      "cell_type": "code",
      "execution_count": null,
      "metadata": {
        "id": "OdNi1apQE2cz"
      },
      "outputs": [],
      "source": [
        "symbol = '^NSEBANK'\n",
        "end = '2021-06-25'\n",
        "start = '2021-05-28'\n",
        "\n",
        "\n",
        "# Read data \n",
        "df = yf.download(symbol,start,end)\n",
        "\n",
        "df.head()"
      ]
    },
    {
      "cell_type": "markdown",
      "metadata": {
        "id": "8z9nZqOME2c0"
      },
      "source": [
        "### Calculation of annual volatility and time remainig for expiry used in calculation of delta"
      ]
    },
    {
      "cell_type": "code",
      "execution_count": null,
      "metadata": {
        "id": "MD-tOY88E2c0"
      },
      "outputs": [],
      "source": [
        "symbol = '^NSEBANK'\n",
        "end = '2021-05-28'\n",
        "start = '2020-05-28'\n",
        "\n",
        "\n",
        "# Read data \n",
        "#You need to read the from the files provided on NSE Bank for the time given above."
      ]
    },
    {
      "cell_type": "code",
      "execution_count": null,
      "metadata": {
        "id": "fHKIhafJE2c1"
      },
      "outputs": [],
      "source": [
        "ret = df_year['Close'].pct_change()[1:]"
      ]
    },
    {
      "cell_type": "code",
      "execution_count": null,
      "metadata": {
        "id": "s4VRF2EWE2c1"
      },
      "outputs": [],
      "source": [
        "ret.head()"
      ]
    },
    {
      "cell_type": "code",
      "execution_count": null,
      "metadata": {
        "id": "n6SDOj-CE2c2"
      },
      "outputs": [],
      "source": [
        "daily_vol = ret.std()\n",
        "daily_vol"
      ]
    },
    {
      "cell_type": "code",
      "execution_count": null,
      "metadata": {
        "id": "-Ocb1XZdE2c2"
      },
      "outputs": [],
      "source": [
        "#calculate the Annual Volatility using the daily volatility given above."
      ]
    },
    {
      "cell_type": "code",
      "execution_count": null,
      "metadata": {
        "id": "8kOf2izOE2c3"
      },
      "outputs": [],
      "source": [
        "expiry = datetime.strptime('2021-06-24', '%Y-%m-%d')   #Expiry date"
      ]
    },
    {
      "cell_type": "code",
      "execution_count": null,
      "metadata": {
        "id": "-yoknf1QE2c3"
      },
      "outputs": [],
      "source": [
        "time = expiry-df.index    #Time left in days\n",
        "time"
      ]
    },
    {
      "cell_type": "code",
      "execution_count": null,
      "metadata": {
        "id": "FJFrnj9-E2c4"
      },
      "outputs": [],
      "source": [
        "#Convert Time left in days to int data type"
      ]
    },
    {
      "cell_type": "markdown",
      "metadata": {
        "id": "FgnMtj7_E2c4"
      },
      "source": [
        "### Initial buying and selling"
      ]
    },
    {
      "cell_type": "code",
      "execution_count": null,
      "metadata": {
        "id": "nGqd2GvsE2c4"
      },
      "outputs": [],
      "source": [
        "no_of_lots_fut = 10           #number of future lots we bought at start of the month\n",
        "buy_avg_future = df_fut['Open'][0]       #buying average of that lot\n",
        "lot_size = 25     #lot size of bank nifty\n",
        "delta = 1*no_of_lots_fut*lot_size    #taking delta of future is 1 as if banknifty changes by 1 the future would also change by 1\n",
        "delta_to_maintain = __ #Maintain 0.8 delta per future contract"
      ]
    },
    {
      "cell_type": "code",
      "execution_count": null,
      "metadata": {
        "id": "lqfa2YdPE2c5"
      },
      "outputs": [],
      "source": [
        "flag = 'c'   #for call or put option\n",
        "S = df['Open'][0]    #price of the underlying\n",
        "K = 36000   #strike price\n",
        "t = time[0]/365   #time left to expiry in years\n",
        "sigma = vol   #volatility\n",
        "r = 0.06  #risk free rate\n",
        "delta_per_lot_call = __ #Calculate delta per lot\n",
        "delta_per_lot_call"
      ]
    },
    {
      "cell_type": "code",
      "execution_count": null,
      "metadata": {
        "id": "_GCdbh6iE2c5"
      },
      "outputs": [],
      "source": [
        "delta_to_maintain"
      ]
    },
    {
      "cell_type": "code",
      "execution_count": null,
      "metadata": {
        "id": "M8TuuoGCE2c6"
      },
      "outputs": [],
      "source": [
        "delta"
      ]
    },
    {
      "cell_type": "code",
      "execution_count": null,
      "metadata": {
        "id": "guVV7FCWE2c6"
      },
      "outputs": [],
      "source": [
        "number_of_lots_call = __ #Calculate Number of call lots we have to sell to keep delta of 200"
      ]
    },
    {
      "cell_type": "code",
      "execution_count": null,
      "metadata": {
        "id": "j5ZAObpFE2c6"
      },
      "outputs": [],
      "source": [
        "number_of_lots_call"
      ]
    },
    {
      "cell_type": "code",
      "execution_count": null,
      "metadata": {
        "id": "92acckStE2c7"
      },
      "outputs": [],
      "source": [
        "sell_avg_call = df_call_36000['Open'][0]  #selling avg of call \n",
        "sell_avg_call"
      ]
    },
    {
      "cell_type": "code",
      "execution_count": null,
      "metadata": {
        "id": "u5dry9CNE2c7"
      },
      "outputs": [],
      "source": [
        "# Before moving on to managing delta, answer a few questions:\n",
        "\n",
        "#Q1 : What do you think would happen to the delta of call option as banknifty goes up? (increase/decrease) \n",
        "#Ans : ____________\n",
        "\n",
        "#Q2 : So to manage the delta what would be done to call options already sold? (Buy some call options / Sell more) \n",
        "#Hint : Remember selling call options would give negative delta\n",
        "#Ans : _____________"
      ]
    },
    {
      "cell_type": "markdown",
      "metadata": {
        "id": "JX8Nlrq8E2c8"
      },
      "source": [
        "### Managing delta"
      ]
    },
    {
      "cell_type": "code",
      "execution_count": null,
      "metadata": {
        "id": "vmkLZoGhE2c8"
      },
      "outputs": [],
      "source": [
        "number_of_lots_call = math.ceil((delta-delta_to_maintain)/delta_per_lot_call)  #number of call lots we have to sell to keep delta of 200\n",
        "sell_avg_call = df_call_36000['Open'][0]  #selling avg of call \n",
        "profit= []\n",
        "\n",
        "for i in range(len(df)-1):\n",
        "    delta_per_lot_call = #Calculate delta per lot at the next closing day\n",
        "    current_number_of_lots_call = #number of lots required to sell\n",
        "    no_of_lots_added =  #number of lots added/subtracted for selling\n",
        "    sell_avg_call = #new selling avg of call\n",
        "    number_of_lots_call = #update number of lots of calls sold\n",
        "    profit.append((df_fut['Close'][i]-buy_avg_future)*no_of_lots_fut*lot_size + (sell_avg_call-df_call_36000['Close'][i])*lot_size*number_of_lots_call)  #unrealised profit \n",
        "    #print(df_fut['Close'][i], buy_avg_future, sell_avg_call, df_call_36000['Close'][i])"
      ]
    },
    {
      "cell_type": "code",
      "execution_count": null,
      "metadata": {
        "id": "nX1HzguLE2c8"
      },
      "outputs": [],
      "source": [
        "#As you can see that the number of lots of call sold is way too many as the delta of out of money call option approches 0 in the end\n",
        "#Thus this strategy would practically be possible by changing the strike price of the call option as it goes deep out of money\n",
        "#But that would require much higher level programming thats why we have given this simple assignment jst theoretically make\n",
        "#you realise the power of hedging\n",
        "number_of_lots_call"
      ]
    },
    {
      "cell_type": "code",
      "execution_count": null,
      "metadata": {
        "id": "PYs591BGE2c9"
      },
      "outputs": [],
      "source": [
        "sell_avg_call"
      ]
    },
    {
      "cell_type": "code",
      "execution_count": null,
      "metadata": {
        "id": "5FjY0bjwE2c9"
      },
      "outputs": [],
      "source": [
        "delta_per_lot_call"
      ]
    },
    {
      "cell_type": "code",
      "execution_count": null,
      "metadata": {
        "id": "M99IUsY0E2c-"
      },
      "outputs": [],
      "source": [
        "profit"
      ]
    },
    {
      "cell_type": "code",
      "execution_count": null,
      "metadata": {
        "id": "HsLZgkn9E2c-"
      },
      "outputs": [],
      "source": [
        "plt.plot(profit[:14], label = 'strategy_profit')\n",
        "plt.plot((df_fut['Close']-df_fut['Open'][0])[:14]*250, label = 'futures_profit')\n",
        "plt.legend()"
      ]
    },
    {
      "cell_type": "markdown",
      "metadata": {
        "id": "AID1g2RfE2c-"
      },
      "source": [
        "As you can see from the above graph of first first 14 days of the strategy that though the futures did fall very down but<br/>\n",
        "We were able to hedge this with selling of call option and our strategy did give better returns overall<br/>\n",
        "<br/>\n",
        "We didnt plot the whole graph as in the end many lots of call options were sold which is practically not possible<br/>"
      ]
    }
  ],
  "metadata": {
    "kernelspec": {
      "display_name": "Python 3",
      "language": "python",
      "name": "python3"
    },
    "language_info": {
      "codemirror_mode": {
        "name": "ipython",
        "version": 3
      },
      "file_extension": ".py",
      "mimetype": "text/x-python",
      "name": "python",
      "nbconvert_exporter": "python",
      "pygments_lexer": "ipython3",
      "version": "3.7.3"
    },
    "colab": {
      "provenance": []
    }
  },
  "nbformat": 4,
  "nbformat_minor": 0
}